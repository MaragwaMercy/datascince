{
 "cells": [
  {
   "cell_type": "markdown",
   "id": "6233032b",
   "metadata": {},
   "source": [
    "LISTS"
   ]
  },
  {
   "cell_type": "code",
   "execution_count": 1,
   "id": "29c0f2f2",
   "metadata": {},
   "outputs": [
    {
     "name": "stdout",
     "output_type": "stream",
     "text": [
      "['kk', 'mm', 'zz', 'jj']\n",
      "['kk', 'nn', 'zz', 'jj']\n"
     ]
    }
   ],
   "source": [
    "#Lists are mutable\n",
    "family=['kk','mm','zz','jj']\n",
    "print(family)\n",
    "family[1]='nn'\n",
    "print(family)"
   ]
  },
  {
   "cell_type": "markdown",
   "id": "7ba1eb1e",
   "metadata": {},
   "source": [
    "traversing a list"
   ]
  },
  {
   "cell_type": "raw",
   "id": "1a1c54ad",
   "metadata": {},
   "source": []
  },
  {
   "cell_type": "code",
   "execution_count": 2,
   "id": "fad0d0ac",
   "metadata": {},
   "outputs": [
    {
     "name": "stdout",
     "output_type": "stream",
     "text": [
      "39\n",
      "56\n",
      "78\n",
      "47\n",
      "82\n",
      "920\n"
     ]
    }
   ],
   "source": [
    "\n",
    "numbers=[39,56,78,47,82,920]\n",
    "for number in numbers:\n",
    "    print(number)"
   ]
  },
  {
   "cell_type": "markdown",
   "id": "37246f60",
   "metadata": {},
   "source": [
    "List operations"
   ]
  },
  {
   "cell_type": "code",
   "execution_count": 3,
   "id": "20f03e40",
   "metadata": {},
   "outputs": [
    {
     "name": "stdout",
     "output_type": "stream",
     "text": [
      "[1, 2, 3, 4, 5, 6]\n"
     ]
    }
   ],
   "source": [
    "#The + operator concatenates list\n",
    "a = [1, 2, 3]\n",
    "b = [4, 5, 6]\n",
    "c = a + b\n",
    "print(c)"
   ]
  },
  {
   "cell_type": "code",
   "execution_count": 4,
   "id": "ea4879c1",
   "metadata": {},
   "outputs": [
    {
     "data": {
      "text/plain": [
       "[1, 2, 3, 1, 2, 3]"
      ]
     },
     "execution_count": 4,
     "metadata": {},
     "output_type": "execute_result"
    }
   ],
   "source": [
    "#the * operator repeats a list a given number of times\n",
    "a*2"
   ]
  },
  {
   "cell_type": "markdown",
   "id": "b78277c6",
   "metadata": {},
   "source": [
    "List slices"
   ]
  },
  {
   "cell_type": "code",
   "execution_count": 5,
   "id": "15b3bc1a",
   "metadata": {},
   "outputs": [
    {
     "data": {
      "text/plain": [
       "['b', 'c']"
      ]
     },
     "execution_count": 5,
     "metadata": {},
     "output_type": "execute_result"
    }
   ],
   "source": [
    "letters= ['a', 'b', 'c', 'd', 'e', 'f']\n",
    "letters[1:3]\n",
    "\n",
    "#If you omit the first index, the slice starts at the beginning. If you omit the second, the slice goes to the end. So if you omit both, the slice is a copy of the whole list\n"
   ]
  },
  {
   "cell_type": "code",
   "execution_count": 6,
   "id": "3e357767",
   "metadata": {},
   "outputs": [
    {
     "data": {
      "text/plain": [
       "['a', 'b', 'c', 'd', 'e']"
      ]
     },
     "execution_count": 6,
     "metadata": {},
     "output_type": "execute_result"
    }
   ],
   "source": [
    "letters[:5]"
   ]
  },
  {
   "cell_type": "code",
   "execution_count": 7,
   "id": "ea70bc8a",
   "metadata": {},
   "outputs": [
    {
     "data": {
      "text/plain": [
       "['f']"
      ]
     },
     "execution_count": 7,
     "metadata": {},
     "output_type": "execute_result"
    }
   ],
   "source": [
    "letters[5:]"
   ]
  },
  {
   "cell_type": "code",
   "execution_count": 8,
   "id": "9673e2c6",
   "metadata": {},
   "outputs": [
    {
     "data": {
      "text/plain": [
       "['a', 'b', 'c', 'd', 'e', 'f']"
      ]
     },
     "execution_count": 8,
     "metadata": {},
     "output_type": "execute_result"
    }
   ],
   "source": [
    "letters[:]"
   ]
  },
  {
   "cell_type": "code",
   "execution_count": 9,
   "id": "ad910e3a",
   "metadata": {},
   "outputs": [
    {
     "data": {
      "text/plain": [
       "['a', 'b', 'c', 'd', 'y', 'z']"
      ]
     },
     "execution_count": 9,
     "metadata": {},
     "output_type": "execute_result"
    }
   ],
   "source": [
    "#  A slice operator on the left side of an assignment can update multiple elements\n",
    "letters[4:6]=['y','z']\n",
    "letters"
   ]
  },
  {
   "cell_type": "markdown",
   "id": "ce2b231b",
   "metadata": {},
   "source": [
    "List methods"
   ]
  },
  {
   "cell_type": "code",
   "execution_count": 10,
   "id": "e53eea80",
   "metadata": {},
   "outputs": [
    {
     "data": {
      "text/plain": [
       "['a', 'b', 'c', 'd', 'y', 'z', 't']"
      ]
     },
     "execution_count": 10,
     "metadata": {},
     "output_type": "execute_result"
    }
   ],
   "source": [
    "#  append adds a new element to the end of a list. only one element at a time\n",
    "letters.append('t')\n",
    "letters"
   ]
  },
  {
   "cell_type": "code",
   "execution_count": 11,
   "id": "c58f4a41",
   "metadata": {},
   "outputs": [
    {
     "data": {
      "text/plain": [
       "['a', 'b', 'c', 'd', 'y', 'z', 't', ['p', 'r']]"
      ]
     },
     "execution_count": 11,
     "metadata": {},
     "output_type": "execute_result"
    }
   ],
   "source": [
    "letters.append(['p','r'])\n",
    "letters"
   ]
  },
  {
   "cell_type": "code",
   "execution_count": 12,
   "id": "7a6a5eb4",
   "metadata": {},
   "outputs": [
    {
     "name": "stdout",
     "output_type": "stream",
     "text": [
      "['a', 'b', 'c', 'd', 'y', 'z', 't', ['p', 'r'], 'w', 's', 'j']\n"
     ]
    }
   ],
   "source": [
    "#  extend takes a list as an argument and appends all of the elements\n",
    "letters_2=['w','s','j']\n",
    "letters.extend(letters_2)\n",
    "print(letters)"
   ]
  },
  {
   "cell_type": "code",
   "execution_count": 13,
   "id": "71bb1cc8",
   "metadata": {},
   "outputs": [
    {
     "name": "stdout",
     "output_type": "stream",
     "text": [
      "['j', 's', 'w']\n"
     ]
    }
   ],
   "source": [
    "#sort---Most list methods are void; they modify the list and return None.\n",
    "letters_2.sort()\n",
    "print(letters_2)"
   ]
  },
  {
   "cell_type": "markdown",
   "id": "a477527d",
   "metadata": {},
   "source": [
    "Deleting list elements"
   ]
  },
  {
   "cell_type": "code",
   "execution_count": 14,
   "id": "5d448c22",
   "metadata": {},
   "outputs": [
    {
     "name": "stdout",
     "output_type": "stream",
     "text": [
      "['a', 'b', 'c', 'd', 'y', 'z', 't', 'w', 's', 'j']\n"
     ]
    }
   ],
   "source": [
    "#pop()---If you know the index of the element you want, you can use pop:\n",
    "letters.pop(7)\n",
    "print(letters)"
   ]
  },
  {
   "cell_type": "code",
   "execution_count": 15,
   "id": "9dd6b54d",
   "metadata": {},
   "outputs": [
    {
     "name": "stdout",
     "output_type": "stream",
     "text": [
      "y\n"
     ]
    }
   ],
   "source": [
    "#pop modifies the list and returns the element that was removed. If you don’t provide an index, it deletes and returns the last element.\n",
    "x=letters.pop(4)\n",
    "print(x)"
   ]
  },
  {
   "cell_type": "code",
   "execution_count": 16,
   "id": "4dd7423d",
   "metadata": {},
   "outputs": [
    {
     "name": "stdout",
     "output_type": "stream",
     "text": [
      "['a', 'c', 'd', 'z', 't', 'w', 's', 'j']\n",
      "['d', 'j', 'k', 'v']\n"
     ]
    }
   ],
   "source": [
    "#del--If you don’t need the removed value, you can use the del operator:\n",
    "del(letters[1])\n",
    "print(letters)\n",
    "\n",
    "\n",
    "#To remove more than one element, you can use del with a slice index:\n",
    "list_1=['d','s','h','g','l','m','j','k','v']\n",
    "del(list_1[1:6])\n",
    "print(list_1)"
   ]
  },
  {
   "cell_type": "code",
   "execution_count": 17,
   "id": "8f1d5c1b",
   "metadata": {},
   "outputs": [
    {
     "name": "stdout",
     "output_type": "stream",
     "text": [
      "['a', 'c', 'd', 'z', 't', 's', 'j']\n"
     ]
    }
   ],
   "source": [
    "#remove---If you know the element you want to remove (but not the index), you can use remove:\n",
    "letters.remove('w')\n",
    "print(letters)\n",
    "\n",
    "#The return value from remove is None."
   ]
  },
  {
   "cell_type": "markdown",
   "id": "ed5797af",
   "metadata": {},
   "source": [
    "Lists and functions"
   ]
  },
  {
   "cell_type": "code",
   "execution_count": 18,
   "id": "9675a1e5",
   "metadata": {},
   "outputs": [
    {
     "name": "stdout",
     "output_type": "stream",
     "text": [
      "10\n"
     ]
    }
   ],
   "source": [
    "#The sum() function only works when the list elements are numbers. The other\n",
    "#functions (max(), len(), etc.) work with lists of strings and other types that can\n",
    "#be comparable.\n",
    "\n",
    "\n",
    "numbers=[6,78,56,47,87,5,89,53,69,76]\n",
    "print(len(numbers))"
   ]
  },
  {
   "cell_type": "code",
   "execution_count": 19,
   "id": "865af0d1",
   "metadata": {},
   "outputs": [
    {
     "name": "stdout",
     "output_type": "stream",
     "text": [
      "5\n"
     ]
    }
   ],
   "source": [
    "print(min(numbers))"
   ]
  },
  {
   "cell_type": "code",
   "execution_count": 20,
   "id": "82b28f5a",
   "metadata": {},
   "outputs": [
    {
     "name": "stdout",
     "output_type": "stream",
     "text": [
      "89\n"
     ]
    }
   ],
   "source": [
    "print(max(numbers))"
   ]
  },
  {
   "cell_type": "code",
   "execution_count": 21,
   "id": "07876442",
   "metadata": {},
   "outputs": [
    {
     "name": "stdout",
     "output_type": "stream",
     "text": [
      "566\n"
     ]
    }
   ],
   "source": [
    "print(sum(numbers))"
   ]
  },
  {
   "cell_type": "code",
   "execution_count": 22,
   "id": "f92c0d89",
   "metadata": {},
   "outputs": [
    {
     "name": "stdout",
     "output_type": "stream",
     "text": [
      "56.6\n"
     ]
    }
   ],
   "source": [
    "print(sum(numbers)/len(numbers))"
   ]
  },
  {
   "cell_type": "markdown",
   "id": "2a569217",
   "metadata": {},
   "source": [
    "Lists and strings"
   ]
  },
  {
   "cell_type": "code",
   "execution_count": 23,
   "id": "52551221",
   "metadata": {},
   "outputs": [
    {
     "name": "stdout",
     "output_type": "stream",
     "text": [
      "['m', 'y', ' ', 'n', 'a', 'm', 'e', ' ', 'i', 's', ' ', 'M', 'e', 'r', 'c', 'y']\n"
     ]
    }
   ],
   "source": [
    "#list()---To convert from a string to a list of characters, you can use list:\n",
    "string='my name is Mercy'\n",
    "lst=list(string)\n",
    "print(lst)\n",
    "\n",
    "#The list function breaks a string into individual letters. "
   ]
  },
  {
   "cell_type": "code",
   "execution_count": 24,
   "id": "4455f54d",
   "metadata": {},
   "outputs": [
    {
     "name": "stdout",
     "output_type": "stream",
     "text": [
      "['my', 'name', 'is', 'Mercy']\n"
     ]
    }
   ],
   "source": [
    "#split()---If you want to break a string into words, you can use the split method:\n",
    "lst_2=string.split()\n",
    "print(lst_2)"
   ]
  },
  {
   "cell_type": "code",
   "execution_count": 25,
   "id": "aef7f7b9",
   "metadata": {},
   "outputs": [
    {
     "name": "stdout",
     "output_type": "stream",
     "text": [
      "Mercy\n"
     ]
    }
   ],
   "source": [
    "#Once you have used split to break the string into a list of words, you can use the index operator (square bracket) to look at a particular word in the list.\n",
    "t=lst_2[3]\n",
    "print(t)"
   ]
  },
  {
   "cell_type": "code",
   "execution_count": 26,
   "id": "80438653",
   "metadata": {},
   "outputs": [
    {
     "data": {
      "text/plain": [
       "['my', 'name', 'is', 'Mercy']"
      ]
     },
     "execution_count": 26,
     "metadata": {},
     "output_type": "execute_result"
    }
   ],
   "source": [
    "#delimeter--You can call split with an optional argument called a delimiter that specifies which characters to use as word boundaries.\n",
    "string='my_name_is_Mercy'\n",
    "delimeter='_'\n",
    "string.split(delimeter)"
   ]
  },
  {
   "cell_type": "code",
   "execution_count": 27,
   "id": "4b98b168",
   "metadata": {},
   "outputs": [
    {
     "name": "stdout",
     "output_type": "stream",
     "text": [
      "my name is Mercy\n"
     ]
    }
   ],
   "source": [
    "#join-- is the inverse of split. It takes a list of strings and concatenates the elements.\n",
    "##join is a string method, so you have to invoke it on the delimiter and pass the list as a parameter:\n",
    "t=['my', 'name', 'is', 'Mercy']\n",
    "delimeter=' '\n",
    "s=delimeter.join(t)\n",
    "print(s)"
   ]
  },
  {
   "cell_type": "markdown",
   "id": "526d0230",
   "metadata": {},
   "source": [
    "Objects and values"
   ]
  },
  {
   "cell_type": "code",
   "execution_count": 28,
   "id": "1ee4db9f",
   "metadata": {},
   "outputs": [
    {
     "data": {
      "text/plain": [
       "True"
      ]
     },
     "execution_count": 28,
     "metadata": {},
     "output_type": "execute_result"
    }
   ],
   "source": [
    "##To check whether two variables refer to the same object, you can use the is operator.\n",
    "a='Mercy'\n",
    "b='Mercy'\n",
    "a is b"
   ]
  },
  {
   "cell_type": "code",
   "execution_count": 29,
   "id": "0483c812",
   "metadata": {},
   "outputs": [
    {
     "data": {
      "text/plain": [
       "False"
      ]
     },
     "execution_count": 29,
     "metadata": {},
     "output_type": "execute_result"
    }
   ],
   "source": [
    "#however, when you create two lists, you get two objects:\n",
    "a = [1, 2, 3]\n",
    "b = [1, 2, 3]\n",
    "a is b"
   ]
  },
  {
   "cell_type": "markdown",
   "id": "38a61191",
   "metadata": {},
   "source": [
    "Aliasing\n"
   ]
  },
  {
   "cell_type": "code",
   "execution_count": 30,
   "id": "d62e4c46",
   "metadata": {},
   "outputs": [
    {
     "data": {
      "text/plain": [
       "True"
      ]
     },
     "execution_count": 30,
     "metadata": {},
     "output_type": "execute_result"
    }
   ],
   "source": [
    "#  An object with more than one reference has more than one name, so we say that the object is aliased\n",
    "\n",
    "a = [1, 2, 3]\n",
    "b = a\n",
    "b is a"
   ]
  },
  {
   "cell_type": "code",
   "execution_count": 31,
   "id": "cb0415ae",
   "metadata": {},
   "outputs": [
    {
     "name": "stdout",
     "output_type": "stream",
     "text": [
      "[67, 2, 3]\n"
     ]
    }
   ],
   "source": [
    "#  If the aliased object is mutable, changes made with one alias affect the other\n",
    "b[0] = 67\n",
    "print(a)\n"
   ]
  },
  {
   "cell_type": "markdown",
   "id": "d85b229a",
   "metadata": {},
   "source": [
    "Lists arguments"
   ]
  },
  {
   "cell_type": "code",
   "execution_count": 32,
   "id": "2a1474a7",
   "metadata": {},
   "outputs": [
    {
     "name": "stdout",
     "output_type": "stream",
     "text": [
      "['b', 'c']\n"
     ]
    }
   ],
   "source": [
    "def delete_head(t):\n",
    "    del t[0]\n",
    "letters = ['a', 'b', 'c']\n",
    "delete_head(letters)\n",
    "print(letters)"
   ]
  },
  {
   "cell_type": "code",
   "execution_count": 33,
   "id": "0c7cff18",
   "metadata": {},
   "outputs": [
    {
     "name": "stdout",
     "output_type": "stream",
     "text": [
      "[1, 2, 3]\n",
      "None\n"
     ]
    }
   ],
   "source": [
    "##  It is important to distinguish between operations that modify lists and operations that create new lists\n",
    "#  the append method modifies a list, but the + operator creates a new list:\n",
    "t1 = [1, 2]\n",
    "t2 = t1.append(3)\n",
    "print(t1)\n",
    "\n",
    "print(t2)"
   ]
  },
  {
   "cell_type": "code",
   "execution_count": 34,
   "id": "0786224b",
   "metadata": {},
   "outputs": [
    {
     "name": "stdout",
     "output_type": "stream",
     "text": [
      "[1, 2, 3, 3]\n",
      "None\n"
     ]
    },
    {
     "data": {
      "text/plain": [
       "False"
      ]
     },
     "execution_count": 34,
     "metadata": {},
     "output_type": "execute_result"
    }
   ],
   "source": [
    "t3 = t1 + [3]\n",
    "print(t3)\n",
    "print(t2)\n",
    "t2 is t3"
   ]
  },
  {
   "cell_type": "markdown",
   "id": "a9b2056b",
   "metadata": {},
   "source": [
    "Write a program to open the file romeo.txt and read it line by line. For each line,\n",
    "split the line into a list of words using the split function.\n",
    "For each word, check to see if the word is already in a list. If the word is not in\n",
    "the list, add it to the list.\n",
    "When the program completes, sort and print the resulting words in alphabetical\n",
    "order."
   ]
  },
  {
   "cell_type": "code",
   "execution_count": 35,
   "id": "184ae149",
   "metadata": {},
   "outputs": [
    {
     "name": "stdout",
     "output_type": "stream",
     "text": [
      "['But', 'breaks', 'light', 'soft', 'through', 'what', 'window', 'yonder']\n",
      "['It', 'Juliet', 'and', 'east', 'is', 'sun', 'the']\n",
      "['Arise', 'and', 'envious', 'fair', 'kill', 'moon', 'sun', 'the']\n",
      "['Who', 'already', 'and', 'grief', 'is', 'pale', 'sick', 'with']\n"
     ]
    }
   ],
   "source": [
    "\n",
    "file=open('romeo.txt')\n",
    "for line in file:\n",
    "    line = line.rstrip()\n",
    "    words = line.split()\n",
    "    words = list(set(words))\n",
    "    words.sort()\n",
    "    print(words)\n"
   ]
  },
  {
   "cell_type": "code",
   "execution_count": 36,
   "id": "70794ae3",
   "metadata": {},
   "outputs": [
    {
     "name": "stdout",
     "output_type": "stream",
     "text": [
      "33\n"
     ]
    }
   ],
   "source": [
    "count=0\n",
    "file=open('romeo.txt')\n",
    "for line in file:\n",
    "    line = line.rstrip()\n",
    "    words = line.split()\n",
    "    lst= list(words)\n",
    "    for i in lst:\n",
    "        count+=1\n",
    "print(count)"
   ]
  },
  {
   "cell_type": "markdown",
   "id": "eba4c26b",
   "metadata": {},
   "source": [
    "DICTIONARIES"
   ]
  },
  {
   "cell_type": "code",
   "execution_count": 37,
   "id": "9b5a7d09",
   "metadata": {},
   "outputs": [
    {
     "name": "stdout",
     "output_type": "stream",
     "text": [
      "{1: 'one', 2: 'two', 3: 'three', 4: 'four'}\n"
     ]
    }
   ],
   "source": [
    "#  A dictionary is like a list, but more general. In a list, the index positions have to be integers; in a dictionary, the indices can be (almost) any type.\n",
    "#  dictionary as a mapping between a set of indices\n",
    "# The association of a key and a value is called a key-value pair or sometimes an item.\n",
    "#  The function dict creates a new dictionary with no items.\n",
    "#  The curly brackets, {}, represent an empty dictionary. \n",
    "dictionary={1:'one',2:'two',3:'three',4:'four'}\n",
    "print(dictionary)\n"
   ]
  },
  {
   "cell_type": "code",
   "execution_count": 38,
   "id": "1fb01a4d",
   "metadata": {},
   "outputs": [
    {
     "data": {
      "text/plain": [
       "True"
      ]
     },
     "execution_count": 38,
     "metadata": {},
     "output_type": "execute_result"
    }
   ],
   "source": [
    "#IN---in operator works on dictionaries; it tells you whether something appears as a key in the dictionary \n",
    "3 in dictionary"
   ]
  },
  {
   "cell_type": "code",
   "execution_count": 39,
   "id": "851969a9",
   "metadata": {},
   "outputs": [
    {
     "name": "stdout",
     "output_type": "stream",
     "text": [
      "['one', 'two', 'three', 'four']\n"
     ]
    }
   ],
   "source": [
    "#VALUES--To see whether something appears as a value in a dictionary, you can use the method values, which returns the values as a list, and then use the in operator:\n",
    "vals = list(dictionary.values())\n",
    "print(vals)"
   ]
  },
  {
   "cell_type": "code",
   "execution_count": 40,
   "id": "00d6ab1e",
   "metadata": {},
   "outputs": [
    {
     "data": {
      "text/plain": [
       "True"
      ]
     },
     "execution_count": 40,
     "metadata": {},
     "output_type": "execute_result"
    }
   ],
   "source": [
    "'two' in vals"
   ]
  },
  {
   "cell_type": "markdown",
   "id": "60efa345",
   "metadata": {},
   "source": [
    "Dictionary as a set of counters"
   ]
  },
  {
   "cell_type": "code",
   "execution_count": 41,
   "id": "6cb365a4",
   "metadata": {},
   "outputs": [
    {
     "name": "stdout",
     "output_type": "stream",
     "text": [
      "{'b': 1, 'r': 2, 'o': 2, 'n': 1, 't': 1, 's': 2, 'a': 1, 'u': 2}\n"
     ]
    }
   ],
   "source": [
    "word = 'brontosaurus'\n",
    "d = dict()\n",
    "for c in word:\n",
    "    if c not in d:\n",
    "        d[c] = 1\n",
    "    else:\n",
    "        d[c] += 1\n",
    "print(d)"
   ]
  },
  {
   "cell_type": "code",
   "execution_count": 42,
   "id": "ccdcc420",
   "metadata": {},
   "outputs": [
    {
     "name": "stdout",
     "output_type": "stream",
     "text": [
      "two\n"
     ]
    }
   ],
   "source": [
    "#get---takes a key and a default value. If the key appears in the dictionary, get returns the corresponding value; otherwise it returns the default value.\n",
    "\n",
    "print(dictionary.get(2,0))"
   ]
  },
  {
   "cell_type": "code",
   "execution_count": 43,
   "id": "04ff5274",
   "metadata": {},
   "outputs": [
    {
     "name": "stdout",
     "output_type": "stream",
     "text": [
      "0\n"
     ]
    }
   ],
   "source": [
    "print(dictionary.get(8,0))"
   ]
  },
  {
   "cell_type": "code",
   "execution_count": 44,
   "id": "e2c21beb",
   "metadata": {},
   "outputs": [
    {
     "name": "stdout",
     "output_type": "stream",
     "text": [
      "{'b': 1, 'r': 2, 'o': 2, 'n': 1, 't': 1, 's': 2, 'a': 1, 'u': 2}\n"
     ]
    }
   ],
   "source": [
    "word = 'brontosaurus'\n",
    "d = dict()\n",
    "for c in word:\n",
    "    d[c] = d.get(c,0) + 1\n",
    "print(d)"
   ]
  },
  {
   "cell_type": "markdown",
   "id": "b434660a",
   "metadata": {},
   "source": [
    "Dictionaries and files"
   ]
  },
  {
   "cell_type": "code",
   "execution_count": 45,
   "id": "062f16ac",
   "metadata": {},
   "outputs": [
    {
     "name": "stdout",
     "output_type": "stream",
     "text": [
      "Enter the file name: romeo.txt\n",
      "{'But': 1, 'soft': 1, 'what': 1, 'light': 1, 'through': 1, 'yonder': 1, 'window': 1, 'breaks': 1, 'It': 1, 'is': 3, 'the': 3, 'east': 1, 'and': 3, 'Juliet': 1, 'sun': 2, 'Arise': 1, 'fair': 1, 'kill': 1, 'envious': 1, 'moon': 1, 'Who': 1, 'already': 1, 'sick': 1, 'pale': 1, 'with': 1, 'grief': 1}\n"
     ]
    }
   ],
   "source": [
    "file_name = input('Enter the file name: ')\n",
    "try:\n",
    "    file = open(file_name)\n",
    "except:\n",
    "    print('File cannot be opened:', fname)\n",
    "    exit()\n",
    "\n",
    "counts = dict()\n",
    "for line in file:\n",
    "    words = line.split()\n",
    "    for word in words:\n",
    "        if word not in counts:\n",
    "            counts[word] = 1\n",
    "        else:\n",
    "            counts[word] += 1\n",
    "print(counts)"
   ]
  },
  {
   "cell_type": "code",
   "execution_count": 46,
   "id": "b5c689a9",
   "metadata": {},
   "outputs": [
    {
     "name": "stdout",
     "output_type": "stream",
     "text": [
      "Enter the file name: romeo.txt\n",
      "{'But': 1, 'soft': 1, 'what': 1, 'light': 1, 'through': 1, 'yonder': 1, 'window': 1, 'breaks': 1, 'It': 1, 'is': 3, 'the': 3, 'east': 1, 'and': 3, 'Juliet': 1, 'sun': 2, 'Arise': 1, 'fair': 1, 'kill': 1, 'envious': 1, 'moon': 1, 'Who': 1, 'already': 1, 'sick': 1, 'pale': 1, 'with': 1, 'grief': 1}\n"
     ]
    }
   ],
   "source": [
    "file_name = input('Enter the file name: ')\n",
    "try:\n",
    "    file = open(file_name)\n",
    "except:\n",
    "    print('File cannot be opened:', fname)\n",
    "    exit()\n",
    "\n",
    "counts = dict()\n",
    "for line in file:\n",
    "    words = line.split()\n",
    "    for word in words:\n",
    "        counts[word] = counts.get(word,0) + 1\n",
    "print(counts)"
   ]
  },
  {
   "cell_type": "markdown",
   "id": "b71da6f0",
   "metadata": {},
   "source": [
    "Looping and dictionaries"
   ]
  },
  {
   "cell_type": "code",
   "execution_count": 47,
   "id": "4d426787",
   "metadata": {},
   "outputs": [
    {
     "name": "stdout",
     "output_type": "stream",
     "text": [
      "1 one\n",
      "2 two\n",
      "3 three\n",
      "4 four\n"
     ]
    }
   ],
   "source": [
    "#If you use a dictionary as the sequence in a for statement, it traverses the keys of the dictionary.\n",
    "dictionary={1:'one',2:'two',3:'three',4:'four'}\n",
    "for key in dictionary:\n",
    "    print(key, dictionary[key])"
   ]
  },
  {
   "cell_type": "code",
   "execution_count": 48,
   "id": "4f2ce382",
   "metadata": {},
   "outputs": [
    {
     "data": {
      "text/plain": [
       "dict_keys"
      ]
     },
     "execution_count": 48,
     "metadata": {},
     "output_type": "execute_result"
    }
   ],
   "source": [
    "type(dictionary.keys())"
   ]
  },
  {
   "cell_type": "code",
   "execution_count": 49,
   "id": "5b7d9f65",
   "metadata": {},
   "outputs": [
    {
     "name": "stdout",
     "output_type": "stream",
     "text": [
      "<class 'list'>\n"
     ]
    }
   ],
   "source": [
    "lst=list(dictionary.keys())\n",
    "print(type(lst))"
   ]
  },
  {
   "cell_type": "code",
   "execution_count": 50,
   "id": "7d33e82d",
   "metadata": {},
   "outputs": [
    {
     "name": "stdout",
     "output_type": "stream",
     "text": [
      "[1, 2, 3, 4]\n"
     ]
    }
   ],
   "source": [
    "lst.sort()\n",
    "print(lst)"
   ]
  },
  {
   "cell_type": "code",
   "execution_count": 51,
   "id": "a26b2304",
   "metadata": {},
   "outputs": [
    {
     "name": "stdout",
     "output_type": "stream",
     "text": [
      "1 one\n",
      "2 two\n",
      "3 three\n",
      "4 four\n"
     ]
    }
   ],
   "source": [
    "for key in dictionary:\n",
    "    print(key,dictionary[key])"
   ]
  },
  {
   "cell_type": "markdown",
   "id": "0e7bdba8",
   "metadata": {},
   "source": [
    "Advanced text parsing"
   ]
  },
  {
   "cell_type": "code",
   "execution_count": 1,
   "id": "e38647fd",
   "metadata": {},
   "outputs": [
    {
     "name": "stdout",
     "output_type": "stream",
     "text": [
      "Enter the file name: romeo.txt\n",
      "{'but': 1, 'soft': 1, 'what': 1, 'light': 1, 'through': 1, 'yonder': 1, 'window': 1, 'breaks': 1, 'it': 1, 'is': 3, 'the': 3, 'east': 1, 'and': 3, 'juliet': 1, 'sun': 2, 'arise': 1, 'fair': 1, 'kill': 1, 'envious': 1, 'moon': 1, 'who': 1, 'already': 1, 'sick': 1, 'pale': 1, 'with': 1, 'grief': 1}\n"
     ]
    }
   ],
   "source": [
    "#translate method--line.translate(str.maketrans(fromstr, tostr, deletestr))\n",
    "import string\n",
    "fname = input('Enter the file name: ')\n",
    "try:\n",
    "    fhand = open(fname)\n",
    "except:\n",
    "    print('File cannot be opened:', fname)\n",
    "exit()\n",
    "counts = dict()\n",
    "for line in fhand:\n",
    "    line = line.rstrip()\n",
    "    line = line.translate(line.maketrans('', '', string.punctuation))\n",
    "    line = line.lower()\n",
    "    words = line.split()\n",
    "    for word in words:\n",
    "        counts[word] = counts.get(word,0) + 1\n",
    "print(counts)"
   ]
  },
  {
   "cell_type": "markdown",
   "id": "a0a4dfbc",
   "metadata": {},
   "source": [
    "TUPLES"
   ]
  },
  {
   "cell_type": "code",
   "execution_count": 2,
   "id": "a2f01dd4",
   "metadata": {},
   "outputs": [
    {
     "name": "stdout",
     "output_type": "stream",
     "text": [
      "<class 'tuple'>\n"
     ]
    }
   ],
   "source": [
    "#A tuple is a sequence of values much like a list\n",
    "#The values stored in a tuple can be any type, and they are indexed by integers\n",
    "#tuples are immutable. \n",
    "t = 'a', 'b', 'c', 'd', 'e'\n",
    "print(type(t))"
   ]
  },
  {
   "cell_type": "code",
   "execution_count": 3,
   "id": "b53f94b8",
   "metadata": {},
   "outputs": [
    {
     "name": "stdout",
     "output_type": "stream",
     "text": [
      "<class 'tuple'>\n"
     ]
    }
   ],
   "source": [
    "t = ('a', 'b', 'c', 'd', 'e')\n",
    "print(type(t))"
   ]
  },
  {
   "cell_type": "code",
   "execution_count": 4,
   "id": "fc1b4843",
   "metadata": {},
   "outputs": [
    {
     "name": "stdout",
     "output_type": "stream",
     "text": [
      "b\n"
     ]
    }
   ],
   "source": [
    "#   Most list operators also work on tuples. The bracket operator indexes an element:\n",
    "print(t[1])"
   ]
  },
  {
   "cell_type": "code",
   "execution_count": 5,
   "id": "4c6266cc",
   "metadata": {},
   "outputs": [
    {
     "name": "stdout",
     "output_type": "stream",
     "text": [
      "('b', 'c')\n"
     ]
    }
   ],
   "source": [
    "#   And the slice operator selects a range of elements\n",
    "print(t[1:3])"
   ]
  },
  {
   "cell_type": "code",
   "execution_count": 7,
   "id": "ae0fe88e",
   "metadata": {},
   "outputs": [
    {
     "name": "stdout",
     "output_type": "stream",
     "text": [
      "('A', 'b', 'c', 'd', 'e')\n"
     ]
    }
   ],
   "source": [
    "#  You can’t modify the elements of a tuple, but you can replace one tuple with another:\n",
    "s= ('A',) + t[1:]\n",
    "print(t)"
   ]
  },
  {
   "cell_type": "code",
   "execution_count": 8,
   "id": "6236c046",
   "metadata": {},
   "outputs": [
    {
     "data": {
      "text/plain": [
       "('A', 'b', 'c', 'd', 'e')"
      ]
     },
     "execution_count": 8,
     "metadata": {},
     "output_type": "execute_result"
    }
   ],
   "source": [
    "t"
   ]
  },
  {
   "cell_type": "markdown",
   "id": "6adba929",
   "metadata": {},
   "source": [
    "Comparing tuples"
   ]
  },
  {
   "cell_type": "code",
   "execution_count": 9,
   "id": "9783a10a",
   "metadata": {},
   "outputs": [
    {
     "data": {
      "text/plain": [
       "True"
      ]
     },
     "execution_count": 9,
     "metadata": {},
     "output_type": "execute_result"
    }
   ],
   "source": [
    "#  Python starts by comparing the first element from each sequence. If they are equal, it goes on to the next element, and so on, until it finds elements that differ\n",
    "(0, 1, 2) < (0, 3, 4)"
   ]
  },
  {
   "cell_type": "code",
   "execution_count": 10,
   "id": "b7a9afe7",
   "metadata": {},
   "outputs": [
    {
     "data": {
      "text/plain": [
       "True"
      ]
     },
     "execution_count": 10,
     "metadata": {},
     "output_type": "execute_result"
    }
   ],
   "source": [
    "(0, 1, 2000000) < (0, 3, 4)"
   ]
  },
  {
   "cell_type": "code",
   "execution_count": 11,
   "id": "0dfd9d45",
   "metadata": {},
   "outputs": [
    {
     "name": "stdout",
     "output_type": "stream",
     "text": [
      "['yonder', 'window', 'breaks', 'light', 'what', 'soft', 'but', 'in']\n"
     ]
    }
   ],
   "source": [
    "#   The sort function works the same way.\n",
    "txt = 'but soft what light in yonder window breaks'\n",
    "words = txt.split()\n",
    "t = list()\n",
    "for word in words:\n",
    "    t.append((len(word), word))\n",
    "t.sort(reverse=True)\n",
    "res = list()\n",
    "for length, word in t:\n",
    "    res.append(word)\n",
    "print(res)"
   ]
  },
  {
   "cell_type": "code",
   "execution_count": 2,
   "id": "1ec88597",
   "metadata": {},
   "outputs": [
    {
     "data": {
      "text/plain": [
       "'have'"
      ]
     },
     "execution_count": 2,
     "metadata": {},
     "output_type": "execute_result"
    }
   ],
   "source": [
    "#  Tuple assignment\n",
    "#  assign more than one variable at a time when the left side is a sequence.\n",
    "m = [ 'have', 'fun' ]\n",
    "x, y = m\n",
    "x"
   ]
  },
  {
   "cell_type": "code",
   "execution_count": 5,
   "id": "c5015938",
   "metadata": {},
   "outputs": [
    {
     "name": "stdout",
     "output_type": "stream",
     "text": [
      "monty  python.org\n"
     ]
    }
   ],
   "source": [
    "address = 'monty@python.org'\n",
    "user_name, domain = address.split('@')\n",
    "print(user_name+ '  '+domain)"
   ]
  },
  {
   "cell_type": "markdown",
   "id": "f58232d0",
   "metadata": {},
   "source": [
    "Dictionaries and tuples"
   ]
  },
  {
   "cell_type": "code",
   "execution_count": 2,
   "id": "73ee0a82",
   "metadata": {},
   "outputs": [
    {
     "name": "stdout",
     "output_type": "stream",
     "text": [
      "[('a', 10), ('b', 1), ('c', 22)]\n"
     ]
    }
   ],
   "source": [
    "# Dictionaries have a method called items that returns a list of tuples, where each tuple is a key-value pair:\n",
    "d = {'a':10, 'b':1, 'c':22}\n",
    "s=d.items()\n",
    "t = list(d.items())\n",
    "print(t)"
   ]
  },
  {
   "cell_type": "code",
   "execution_count": 4,
   "id": "97c12a00",
   "metadata": {},
   "outputs": [
    {
     "name": "stdout",
     "output_type": "stream",
     "text": [
      "dict_items([('a', 10), ('b', 1), ('c', 22)])\n"
     ]
    }
   ],
   "source": [
    "s=d.items()\n",
    "print(s)"
   ]
  },
  {
   "cell_type": "code",
   "execution_count": 5,
   "id": "d283bc3f",
   "metadata": {},
   "outputs": [
    {
     "name": "stdout",
     "output_type": "stream",
     "text": [
      "10 a\n",
      "1 b\n",
      "22 c\n"
     ]
    }
   ],
   "source": [
    "#  Multiple assignment with dictionaries\n",
    "for key, val in list(d.items()):\n",
    "    print(val, key)"
   ]
  },
  {
   "cell_type": "code",
   "execution_count": 6,
   "id": "9532a7ec",
   "metadata": {},
   "outputs": [
    {
     "name": "stdout",
     "output_type": "stream",
     "text": [
      "[(22, 'c'), (10, 'a'), (1, 'b')]\n"
     ]
    }
   ],
   "source": [
    "lst = list()\n",
    "for key, val in d.items() :\n",
    "    lst.append( (val, key) )\n",
    "lst.sort(reverse=True)\n",
    "print(lst)"
   ]
  },
  {
   "cell_type": "code",
   "execution_count": 7,
   "id": "64485f10",
   "metadata": {},
   "outputs": [
    {
     "name": "stdout",
     "output_type": "stream",
     "text": [
      "3 the\n",
      "3 is\n",
      "3 and\n",
      "2 sun\n",
      "1 yonder\n",
      "1 with\n",
      "1 window\n",
      "1 who\n",
      "1 what\n",
      "1 through\n"
     ]
    }
   ],
   "source": [
    "import string\n",
    "fhand = open('romeo.txt')\n",
    "counts = dict()\n",
    "for line in fhand:\n",
    "    line = line.translate(str.maketrans('', '', string.punctuation))\n",
    "    line = line.lower()\n",
    "    words = line.split()\n",
    "    for word in words:\n",
    "        counts[word] = counts.get(word,0) + 1\n",
    "# Sort the dictionary by value\n",
    "lst = list()\n",
    "for key, val in list(counts.items()):\n",
    "    lst.append((val, key))\n",
    "lst.sort(reverse=True)\n",
    "for key, val in lst[:10]:\n",
    "    print(key, val)"
   ]
  },
  {
   "cell_type": "markdown",
   "id": "0ff620dc",
   "metadata": {},
   "source": [
    "Using tuples as keys in dictionaries"
   ]
  },
  {
   "cell_type": "code",
   "execution_count": 10,
   "id": "0878742e",
   "metadata": {},
   "outputs": [
    {
     "name": "stdout",
     "output_type": "stream",
     "text": [
      "John Smith 555-555-5555\n",
      "Jane Johnson 555-555-5556\n",
      "Bob Williams 555-555-5557\n",
      "Mary Jones 555-555-5558\n",
      "Mike Brown 555-555-5559\n"
     ]
    }
   ],
   "source": [
    "#  We would encounter a composite key if we wanted to create a telephone directory that maps from last-name, first-name pairs to telephone numbers.\n",
    "\n",
    "\n",
    "telephone_directory = {\n",
    "    (\"Smith\", \"John\"): \"555-555-5555\",\n",
    "    (\"Johnson\", \"Jane\"): \"555-555-5556\",\n",
    "    (\"Williams\", \"Bob\"): \"555-555-5557\",\n",
    "    (\"Jones\", \"Mary\"): \"555-555-5558\",\n",
    "    (\"Brown\", \"Mike\"): \"555-555-5559\"\n",
    "}\n",
    "\n",
    "for last, first in telephone_directory:\n",
    "    print(first, last, telephone_directory[last,first])\n"
   ]
  },
  {
   "cell_type": "markdown",
   "id": "692e026e",
   "metadata": {},
   "source": []
  },
  {
   "cell_type": "code",
   "execution_count": null,
   "id": "a6e62e6f",
   "metadata": {},
   "outputs": [],
   "source": []
  }
 ],
 "metadata": {
  "kernelspec": {
   "display_name": "Python 3 (ipykernel)",
   "language": "python",
   "name": "python3"
  },
  "language_info": {
   "codemirror_mode": {
    "name": "ipython",
    "version": 3
   },
   "file_extension": ".py",
   "mimetype": "text/x-python",
   "name": "python",
   "nbconvert_exporter": "python",
   "pygments_lexer": "ipython3",
   "version": "3.9.13"
  }
 },
 "nbformat": 4,
 "nbformat_minor": 5
}
